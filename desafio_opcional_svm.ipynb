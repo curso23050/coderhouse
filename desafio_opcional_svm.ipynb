{
  "cells": [
    {
      "cell_type": "markdown",
      "metadata": {
        "id": "view-in-github",
        "colab_type": "text"
      },
      "source": [
        "<a href=\"https://colab.research.google.com/github/curso23050/coderhouse/blob/main/desafio_opcional_svm.ipynb\" target=\"_parent\"><img src=\"https://colab.research.google.com/assets/colab-badge.svg\" alt=\"Open In Colab\"/></a>"
      ]
    },
    {
      "cell_type": "markdown",
      "metadata": {
        "id": "80jpYGFDZVr1"
      },
      "source": [
        "## ALGORITMO DE CLASIFICACION II"
      ]
    },
    {
      "cell_type": "code",
      "execution_count": 4,
      "metadata": {
        "id": "sLHi-jVLZVsH"
      },
      "outputs": [],
      "source": [
        "#Importamos las librerias\n",
        "\n",
        "import pandas as pd\n",
        "import numpy as np\n",
        "import matplotlib.pyplot as plt\n",
        "import seaborn as sns\n",
        "from sklearn.neighbors import KNeighborsClassifier\n",
        "from sklearn.metrics import confusion_matrix\n",
        "from sklearn.model_selection import train_test_split\n",
        "from sklearn import svm, datasets"
      ]
    },
    {
      "cell_type": "code",
      "execution_count": 5,
      "metadata": {
        "id": "GGEAiHfOZVsO"
      },
      "outputs": [],
      "source": [
        "#importamos los datos \n",
        "\n",
        "df = pd.read_csv('WA_Fn-UseC_-Telco-Customer-Churn.csv')"
      ]
    },
    {
      "cell_type": "code",
      "execution_count": 6,
      "metadata": {
        "colab": {
          "base_uri": "https://localhost:8080/"
        },
        "id": "K3FrXmzDZVsR",
        "outputId": "86f07081-3dd2-4aa5-8dae-cbbd101cbc73"
      },
      "outputs": [
        {
          "output_type": "execute_result",
          "data": {
            "text/plain": [
              "(7043, 21)"
            ]
          },
          "metadata": {},
          "execution_count": 6
        }
      ],
      "source": [
        "df.shape"
      ]
    },
    {
      "cell_type": "code",
      "execution_count": 7,
      "metadata": {
        "colab": {
          "base_uri": "https://localhost:8080/",
          "height": 387
        },
        "id": "eWnpNc8YZVsW",
        "outputId": "79a87c71-a67a-4edc-c588-7734cc2d42bd"
      },
      "outputs": [
        {
          "output_type": "execute_result",
          "data": {
            "text/plain": [
              "   customerID  gender  SeniorCitizen Partner Dependents  tenure PhoneService  \\\n",
              "0  7590-VHVEG  Female              0     Yes         No       1           No   \n",
              "1  5575-GNVDE    Male              0      No         No      34          Yes   \n",
              "2  3668-QPYBK    Male              0      No         No       2          Yes   \n",
              "3  7795-CFOCW    Male              0      No         No      45           No   \n",
              "4  9237-HQITU  Female              0      No         No       2          Yes   \n",
              "\n",
              "      MultipleLines InternetService OnlineSecurity  ... DeviceProtection  \\\n",
              "0  No phone service             DSL             No  ...               No   \n",
              "1                No             DSL            Yes  ...              Yes   \n",
              "2                No             DSL            Yes  ...               No   \n",
              "3  No phone service             DSL            Yes  ...              Yes   \n",
              "4                No     Fiber optic             No  ...               No   \n",
              "\n",
              "  TechSupport StreamingTV StreamingMovies        Contract PaperlessBilling  \\\n",
              "0          No          No              No  Month-to-month              Yes   \n",
              "1          No          No              No        One year               No   \n",
              "2          No          No              No  Month-to-month              Yes   \n",
              "3         Yes          No              No        One year               No   \n",
              "4          No          No              No  Month-to-month              Yes   \n",
              "\n",
              "               PaymentMethod MonthlyCharges  TotalCharges Churn  \n",
              "0           Electronic check          29.85         29.85    No  \n",
              "1               Mailed check          56.95        1889.5    No  \n",
              "2               Mailed check          53.85        108.15   Yes  \n",
              "3  Bank transfer (automatic)          42.30       1840.75    No  \n",
              "4           Electronic check          70.70        151.65   Yes  \n",
              "\n",
              "[5 rows x 21 columns]"
            ],
            "text/html": [
              "\n",
              "  <div id=\"df-57175080-96da-4e88-a1e5-2fad69c77f3f\">\n",
              "    <div class=\"colab-df-container\">\n",
              "      <div>\n",
              "<style scoped>\n",
              "    .dataframe tbody tr th:only-of-type {\n",
              "        vertical-align: middle;\n",
              "    }\n",
              "\n",
              "    .dataframe tbody tr th {\n",
              "        vertical-align: top;\n",
              "    }\n",
              "\n",
              "    .dataframe thead th {\n",
              "        text-align: right;\n",
              "    }\n",
              "</style>\n",
              "<table border=\"1\" class=\"dataframe\">\n",
              "  <thead>\n",
              "    <tr style=\"text-align: right;\">\n",
              "      <th></th>\n",
              "      <th>customerID</th>\n",
              "      <th>gender</th>\n",
              "      <th>SeniorCitizen</th>\n",
              "      <th>Partner</th>\n",
              "      <th>Dependents</th>\n",
              "      <th>tenure</th>\n",
              "      <th>PhoneService</th>\n",
              "      <th>MultipleLines</th>\n",
              "      <th>InternetService</th>\n",
              "      <th>OnlineSecurity</th>\n",
              "      <th>...</th>\n",
              "      <th>DeviceProtection</th>\n",
              "      <th>TechSupport</th>\n",
              "      <th>StreamingTV</th>\n",
              "      <th>StreamingMovies</th>\n",
              "      <th>Contract</th>\n",
              "      <th>PaperlessBilling</th>\n",
              "      <th>PaymentMethod</th>\n",
              "      <th>MonthlyCharges</th>\n",
              "      <th>TotalCharges</th>\n",
              "      <th>Churn</th>\n",
              "    </tr>\n",
              "  </thead>\n",
              "  <tbody>\n",
              "    <tr>\n",
              "      <th>0</th>\n",
              "      <td>7590-VHVEG</td>\n",
              "      <td>Female</td>\n",
              "      <td>0</td>\n",
              "      <td>Yes</td>\n",
              "      <td>No</td>\n",
              "      <td>1</td>\n",
              "      <td>No</td>\n",
              "      <td>No phone service</td>\n",
              "      <td>DSL</td>\n",
              "      <td>No</td>\n",
              "      <td>...</td>\n",
              "      <td>No</td>\n",
              "      <td>No</td>\n",
              "      <td>No</td>\n",
              "      <td>No</td>\n",
              "      <td>Month-to-month</td>\n",
              "      <td>Yes</td>\n",
              "      <td>Electronic check</td>\n",
              "      <td>29.85</td>\n",
              "      <td>29.85</td>\n",
              "      <td>No</td>\n",
              "    </tr>\n",
              "    <tr>\n",
              "      <th>1</th>\n",
              "      <td>5575-GNVDE</td>\n",
              "      <td>Male</td>\n",
              "      <td>0</td>\n",
              "      <td>No</td>\n",
              "      <td>No</td>\n",
              "      <td>34</td>\n",
              "      <td>Yes</td>\n",
              "      <td>No</td>\n",
              "      <td>DSL</td>\n",
              "      <td>Yes</td>\n",
              "      <td>...</td>\n",
              "      <td>Yes</td>\n",
              "      <td>No</td>\n",
              "      <td>No</td>\n",
              "      <td>No</td>\n",
              "      <td>One year</td>\n",
              "      <td>No</td>\n",
              "      <td>Mailed check</td>\n",
              "      <td>56.95</td>\n",
              "      <td>1889.5</td>\n",
              "      <td>No</td>\n",
              "    </tr>\n",
              "    <tr>\n",
              "      <th>2</th>\n",
              "      <td>3668-QPYBK</td>\n",
              "      <td>Male</td>\n",
              "      <td>0</td>\n",
              "      <td>No</td>\n",
              "      <td>No</td>\n",
              "      <td>2</td>\n",
              "      <td>Yes</td>\n",
              "      <td>No</td>\n",
              "      <td>DSL</td>\n",
              "      <td>Yes</td>\n",
              "      <td>...</td>\n",
              "      <td>No</td>\n",
              "      <td>No</td>\n",
              "      <td>No</td>\n",
              "      <td>No</td>\n",
              "      <td>Month-to-month</td>\n",
              "      <td>Yes</td>\n",
              "      <td>Mailed check</td>\n",
              "      <td>53.85</td>\n",
              "      <td>108.15</td>\n",
              "      <td>Yes</td>\n",
              "    </tr>\n",
              "    <tr>\n",
              "      <th>3</th>\n",
              "      <td>7795-CFOCW</td>\n",
              "      <td>Male</td>\n",
              "      <td>0</td>\n",
              "      <td>No</td>\n",
              "      <td>No</td>\n",
              "      <td>45</td>\n",
              "      <td>No</td>\n",
              "      <td>No phone service</td>\n",
              "      <td>DSL</td>\n",
              "      <td>Yes</td>\n",
              "      <td>...</td>\n",
              "      <td>Yes</td>\n",
              "      <td>Yes</td>\n",
              "      <td>No</td>\n",
              "      <td>No</td>\n",
              "      <td>One year</td>\n",
              "      <td>No</td>\n",
              "      <td>Bank transfer (automatic)</td>\n",
              "      <td>42.30</td>\n",
              "      <td>1840.75</td>\n",
              "      <td>No</td>\n",
              "    </tr>\n",
              "    <tr>\n",
              "      <th>4</th>\n",
              "      <td>9237-HQITU</td>\n",
              "      <td>Female</td>\n",
              "      <td>0</td>\n",
              "      <td>No</td>\n",
              "      <td>No</td>\n",
              "      <td>2</td>\n",
              "      <td>Yes</td>\n",
              "      <td>No</td>\n",
              "      <td>Fiber optic</td>\n",
              "      <td>No</td>\n",
              "      <td>...</td>\n",
              "      <td>No</td>\n",
              "      <td>No</td>\n",
              "      <td>No</td>\n",
              "      <td>No</td>\n",
              "      <td>Month-to-month</td>\n",
              "      <td>Yes</td>\n",
              "      <td>Electronic check</td>\n",
              "      <td>70.70</td>\n",
              "      <td>151.65</td>\n",
              "      <td>Yes</td>\n",
              "    </tr>\n",
              "  </tbody>\n",
              "</table>\n",
              "<p>5 rows × 21 columns</p>\n",
              "</div>\n",
              "      <button class=\"colab-df-convert\" onclick=\"convertToInteractive('df-57175080-96da-4e88-a1e5-2fad69c77f3f')\"\n",
              "              title=\"Convert this dataframe to an interactive table.\"\n",
              "              style=\"display:none;\">\n",
              "        \n",
              "  <svg xmlns=\"http://www.w3.org/2000/svg\" height=\"24px\"viewBox=\"0 0 24 24\"\n",
              "       width=\"24px\">\n",
              "    <path d=\"M0 0h24v24H0V0z\" fill=\"none\"/>\n",
              "    <path d=\"M18.56 5.44l.94 2.06.94-2.06 2.06-.94-2.06-.94-.94-2.06-.94 2.06-2.06.94zm-11 1L8.5 8.5l.94-2.06 2.06-.94-2.06-.94L8.5 2.5l-.94 2.06-2.06.94zm10 10l.94 2.06.94-2.06 2.06-.94-2.06-.94-.94-2.06-.94 2.06-2.06.94z\"/><path d=\"M17.41 7.96l-1.37-1.37c-.4-.4-.92-.59-1.43-.59-.52 0-1.04.2-1.43.59L10.3 9.45l-7.72 7.72c-.78.78-.78 2.05 0 2.83L4 21.41c.39.39.9.59 1.41.59.51 0 1.02-.2 1.41-.59l7.78-7.78 2.81-2.81c.8-.78.8-2.07 0-2.86zM5.41 20L4 18.59l7.72-7.72 1.47 1.35L5.41 20z\"/>\n",
              "  </svg>\n",
              "      </button>\n",
              "      \n",
              "  <style>\n",
              "    .colab-df-container {\n",
              "      display:flex;\n",
              "      flex-wrap:wrap;\n",
              "      gap: 12px;\n",
              "    }\n",
              "\n",
              "    .colab-df-convert {\n",
              "      background-color: #E8F0FE;\n",
              "      border: none;\n",
              "      border-radius: 50%;\n",
              "      cursor: pointer;\n",
              "      display: none;\n",
              "      fill: #1967D2;\n",
              "      height: 32px;\n",
              "      padding: 0 0 0 0;\n",
              "      width: 32px;\n",
              "    }\n",
              "\n",
              "    .colab-df-convert:hover {\n",
              "      background-color: #E2EBFA;\n",
              "      box-shadow: 0px 1px 2px rgba(60, 64, 67, 0.3), 0px 1px 3px 1px rgba(60, 64, 67, 0.15);\n",
              "      fill: #174EA6;\n",
              "    }\n",
              "\n",
              "    [theme=dark] .colab-df-convert {\n",
              "      background-color: #3B4455;\n",
              "      fill: #D2E3FC;\n",
              "    }\n",
              "\n",
              "    [theme=dark] .colab-df-convert:hover {\n",
              "      background-color: #434B5C;\n",
              "      box-shadow: 0px 1px 3px 1px rgba(0, 0, 0, 0.15);\n",
              "      filter: drop-shadow(0px 1px 2px rgba(0, 0, 0, 0.3));\n",
              "      fill: #FFFFFF;\n",
              "    }\n",
              "  </style>\n",
              "\n",
              "      <script>\n",
              "        const buttonEl =\n",
              "          document.querySelector('#df-57175080-96da-4e88-a1e5-2fad69c77f3f button.colab-df-convert');\n",
              "        buttonEl.style.display =\n",
              "          google.colab.kernel.accessAllowed ? 'block' : 'none';\n",
              "\n",
              "        async function convertToInteractive(key) {\n",
              "          const element = document.querySelector('#df-57175080-96da-4e88-a1e5-2fad69c77f3f');\n",
              "          const dataTable =\n",
              "            await google.colab.kernel.invokeFunction('convertToInteractive',\n",
              "                                                     [key], {});\n",
              "          if (!dataTable) return;\n",
              "\n",
              "          const docLinkHtml = 'Like what you see? Visit the ' +\n",
              "            '<a target=\"_blank\" href=https://colab.research.google.com/notebooks/data_table.ipynb>data table notebook</a>'\n",
              "            + ' to learn more about interactive tables.';\n",
              "          element.innerHTML = '';\n",
              "          dataTable['output_type'] = 'display_data';\n",
              "          await google.colab.output.renderOutput(dataTable, element);\n",
              "          const docLink = document.createElement('div');\n",
              "          docLink.innerHTML = docLinkHtml;\n",
              "          element.appendChild(docLink);\n",
              "        }\n",
              "      </script>\n",
              "    </div>\n",
              "  </div>\n",
              "  "
            ]
          },
          "metadata": {},
          "execution_count": 7
        }
      ],
      "source": [
        "\n",
        "df.head()"
      ]
    },
    {
      "cell_type": "code",
      "execution_count": 8,
      "metadata": {
        "id": "NBufcUdSZVsZ"
      },
      "outputs": [],
      "source": [
        "#modificamos el nombre de la columna a Target\n",
        "df.rename({'Churn': 'Target'}, axis=1, inplace=True)"
      ]
    },
    {
      "cell_type": "code",
      "execution_count": 9,
      "metadata": {
        "id": "Zd6K7fbwZVsc"
      },
      "outputs": [],
      "source": [
        "#cambiamos los valores de todas las columnas object a int codificando los valores \n",
        "df=df.drop(\"customerID\", axis=1)\n",
        "df = df.replace(\"Yes\", 1).replace(\"No\", 0)\n",
        "df = df.replace(\"No internet service\", 2)\n",
        "df['gender'] = df['gender'].replace(\"Female\", 1).replace(\"Male\", 0)\n",
        "df['InternetService'] = df['InternetService'].replace(\"0\", 0).replace(\"Fiber optic\", 1).replace(\"DSL\", 2)\n",
        "df['MultipleLines'] = df['MultipleLines'].replace(\"No phone service\", 3)\n",
        "df['TotalCharges'] = df['TotalCharges'].replace(\" \", 0)\n",
        "df['Contract'] = df['Contract'].replace(\"Month-to-month\", 0).replace(\"One year\", 1).replace(\"Two year\", 2)\n",
        "df['PaymentMethod'] = df['Contract'].replace(\"Electronic check\", 0).replace(\"Mailed check\", 1).replace(\"Bank transfer (automatic)\", 2).replace(\"Credit card (automatic)\", 3)"
      ]
    },
    {
      "cell_type": "code",
      "execution_count": 10,
      "metadata": {
        "id": "l8uD3RTMZVsg"
      },
      "outputs": [],
      "source": [
        "#Seperamos en X e y\n",
        "X = df.drop(\"Target\", axis=1) #Elimino de mi dataset la variable a predecir\n",
        "y = df.Target #Defino el Target"
      ]
    },
    {
      "cell_type": "code",
      "execution_count": 11,
      "metadata": {
        "id": "8uUrzyA3ZVsl"
      },
      "outputs": [],
      "source": [
        "#Importamos la libreria para separar en train y test\n",
        "from sklearn.model_selection import train_test_split \n",
        "\n",
        "#Me quedo con 30% para test y 70% para train\n",
        "X_train, X_test, y_train, y_test = train_test_split(X, y, test_size=0.30, random_state=42) "
      ]
    },
    {
      "cell_type": "markdown",
      "metadata": {
        "id": "zEZHl5kAZVsp"
      },
      "source": [
        "### APICACION DE KNN"
      ]
    },
    {
      "cell_type": "code",
      "execution_count": 12,
      "metadata": {
        "colab": {
          "base_uri": "https://localhost:8080/"
        },
        "id": "zfwHXdQjZVsr",
        "outputId": "77e97794-3e04-4ef6-d4db-b810b2152fdd"
      },
      "outputs": [
        {
          "output_type": "execute_result",
          "data": {
            "text/plain": [
              "KNeighborsClassifier(n_neighbors=3)"
            ]
          },
          "metadata": {},
          "execution_count": 12
        }
      ],
      "source": [
        "# from sklearn.neighbors import KNeighborsClassifier\n",
        "\n",
        "knn = KNeighborsClassifier(n_neighbors=3)\n",
        "\n",
        "knn.fit(X_train, y_train)"
      ]
    },
    {
      "cell_type": "code",
      "execution_count": 13,
      "metadata": {
        "colab": {
          "base_uri": "https://localhost:8080/"
        },
        "id": "kjji3sZcZVst",
        "outputId": "7955e331-3744-442e-85d7-d16b4142ecd8"
      },
      "outputs": [
        {
          "output_type": "stream",
          "name": "stdout",
          "text": [
            "[1 0 0 ... 0 1 0]\n"
          ]
        }
      ],
      "source": [
        "prediccion = knn.predict(X_test)\n",
        "print(prediccion)"
      ]
    },
    {
      "cell_type": "code",
      "execution_count": 14,
      "metadata": {
        "colab": {
          "base_uri": "https://localhost:8080/"
        },
        "id": "-sFgs_30ZVsv",
        "outputId": "28b64e44-4bba-40f8-c616-09148d3c2077"
      },
      "outputs": [
        {
          "output_type": "execute_result",
          "data": {
            "text/plain": [
              "array([1, 0, 0, ..., 0, 1, 0])"
            ]
          },
          "metadata": {},
          "execution_count": 14
        }
      ],
      "source": [
        "prediccion"
      ]
    },
    {
      "cell_type": "code",
      "execution_count": 15,
      "metadata": {
        "id": "8z-Fz_GXZVsx"
      },
      "outputs": [],
      "source": [
        "from sklearn.metrics import confusion_matrix, classification_report"
      ]
    },
    {
      "cell_type": "code",
      "execution_count": 16,
      "metadata": {
        "colab": {
          "base_uri": "https://localhost:8080/"
        },
        "id": "s6jJZW52ZVsy",
        "outputId": "0f52e873-f5ee-4bc2-d147-b602fb6e35a0"
      },
      "outputs": [
        {
          "output_type": "stream",
          "name": "stdout",
          "text": [
            "[[1341  198]\n",
            " [ 294  280]]\n",
            "              precision    recall  f1-score   support\n",
            "\n",
            "           0       0.82      0.87      0.84      1539\n",
            "           1       0.59      0.49      0.53       574\n",
            "\n",
            "    accuracy                           0.77      2113\n",
            "   macro avg       0.70      0.68      0.69      2113\n",
            "weighted avg       0.76      0.77      0.76      2113\n",
            "\n"
          ]
        }
      ],
      "source": [
        "print(confusion_matrix(y_test,prediccion))\n",
        "print(classification_report(y_test,prediccion))"
      ]
    },
    {
      "cell_type": "markdown",
      "metadata": {
        "id": "y__THVD0ZVsz"
      },
      "source": [
        "### pruebas con modificacion de vecinos manualmente . vemos que con 3 vecinos ya supera el modelo anterior  :\n",
        "\n",
        "#### n_neighbors=1 - accuracy 0 73  \n",
        "#### n_neighbors=3 - accuracy 0 77 "
      ]
    },
    {
      "cell_type": "markdown",
      "metadata": {
        "id": "qGYc3UBSZVs1"
      },
      "source": [
        "## mejorando el modelo"
      ]
    },
    {
      "cell_type": "code",
      "execution_count": 17,
      "metadata": {
        "id": "2tXl6qdjZVs2"
      },
      "outputs": [],
      "source": [
        "error_rate=[]\n",
        "\n",
        "for i in range (1,40):\n",
        "    knn=KNeighborsClassifier(n_neighbors=i)\n",
        "    knn.fit(X_train,y_train)\n",
        "    pred_i= knn.predict(X_test)\n",
        "    error_rate.append(np.mean(pred_i != y_test))\n",
        "    "
      ]
    },
    {
      "cell_type": "code",
      "execution_count": 18,
      "metadata": {
        "colab": {
          "base_uri": "https://localhost:8080/",
          "height": 421
        },
        "id": "m8RCXOg0ZVs3",
        "outputId": "c9612941-be7b-4e5e-d184-f441a2cc9bcf"
      },
      "outputs": [
        {
          "output_type": "execute_result",
          "data": {
            "text/plain": [
              "Text(0.5, 0, 'K')"
            ]
          },
          "metadata": {},
          "execution_count": 18
        },
        {
          "output_type": "display_data",
          "data": {
            "text/plain": [
              "<Figure size 720x432 with 1 Axes>"
            ],
            "image/png": "[encoded data removed]"
          },
          "metadata": {
            "needs_background": "light"
          }
        }
      ],
      "source": [
        "plt.figure(figsize=(10,6))\n",
        "plt.plot(range(1,40),error_rate,color='blue',linestyle='--',markersize=10,markerfacecolor='red',marker='o')\n",
        "plt.title('K Vs Error Rate')\n",
        "plt.xlabel('K')"
      ]
    },
    {
      "cell_type": "code",
      "execution_count": 19,
      "metadata": {
        "colab": {
          "base_uri": "https://localhost:8080/"
        },
        "id": "PXWPaBqqZVs5",
        "outputId": "52eaa5cc-2f20-4315-8bb2-01f6b2a210f4"
      },
      "outputs": [
        {
          "output_type": "stream",
          "name": "stdout",
          "text": [
            "[[1433  106]\n",
            " [ 335  239]]\n",
            "              precision    recall  f1-score   support\n",
            "\n",
            "           0       0.81      0.93      0.87      1539\n",
            "           1       0.69      0.42      0.52       574\n",
            "\n",
            "    accuracy                           0.79      2113\n",
            "   macro avg       0.75      0.67      0.69      2113\n",
            "weighted avg       0.78      0.79      0.77      2113\n",
            "\n"
          ]
        }
      ],
      "source": [
        "# elejimos K= 19 y recalculamos \n",
        "\n",
        "knn=KNeighborsClassifier(n_neighbors=19)\n",
        "knn.fit(X_train,y_train)\n",
        "prediccion_optimizada= knn.predict(X_test)\n",
        "print(confusion_matrix(y_test,prediccion_optimizada))\n",
        "print(classification_report(y_test,prediccion_optimizada))"
      ]
    },
    {
      "cell_type": "markdown",
      "metadata": {
        "id": "b59TEVQ9ZVs7"
      },
      "source": [
        "## Conclusion : el accuracy mejoro a 79, sobre todo la prediccion del churn a 69"
      ]
    },
    {
      "cell_type": "markdown",
      "metadata": {
        "id": "bkebBYjZZVs8"
      },
      "source": [
        "## SVM "
      ]
    },
    {
      "cell_type": "code",
      "execution_count": 20,
      "metadata": {
        "id": "_-jCG8XuZVs9"
      },
      "outputs": [],
      "source": [
        "from sklearn.preprocessing import StandardScaler\n",
        "sc = StandardScaler()\n",
        "X_train_array = sc.fit_transform(X_train.values)\n",
        "X_train = pd.DataFrame(X_train_array, index=X_train.index, columns=X_train.columns)\n",
        "X_test_array = sc.transform(X_test.values)\n",
        "X_test = pd.DataFrame(X_test_array, index=X_test.index, columns=X_test.columns)\n",
        "X_array = sc.transform(X.values)\n",
        "X = pd.DataFrame(X_array, index=X.index, columns=X.columns)"
      ]
    },
    {
      "cell_type": "code",
      "execution_count": 21,
      "metadata": {
        "id": "4cwYpRClZVs_"
      },
      "outputs": [],
      "source": [
        "#X_train.to_numpy()"
      ]
    },
    {
      "cell_type": "code",
      "execution_count": 22,
      "metadata": {
        "id": "ScbHWKVcZVtA"
      },
      "outputs": [],
      "source": [
        "X2=X.drop('gender',axis=1)\n",
        "X2=X2.drop('SeniorCitizen',axis=1)\n",
        "X2=X2.drop('Partner',axis=1)\n",
        "X2=X2.drop('Dependents',axis=1)\n",
        "X2=X2.drop('PhoneService',axis=1)\n",
        "X2=X2.drop('MultipleLines',axis=1)\n",
        "X2=X2.drop('InternetService',axis=1)\n",
        "X2=X2.drop('OnlineSecurity',axis=1)\n",
        "X2=X2.drop('OnlineBackup',axis=1)\n",
        "X2=X2.drop('DeviceProtection',axis=1)\n",
        "X2=X2.drop('TechSupport',axis=1)\n",
        "X2=X2.drop('StreamingTV',axis=1)\n",
        "X2=X2.drop('StreamingMovies',axis=1)\n",
        "X2=X2.drop('Contract',axis=1)\n",
        "X2=X2.drop('PaperlessBilling',axis=1)\n",
        "X2=X2.drop('MonthlyCharges',axis=1)\n",
        "X2=X2.drop('TotalCharges',axis=1)"
      ]
    },
    {
      "cell_type": "code",
      "execution_count": 23,
      "metadata": {
        "scrolled": true,
        "id": "4K7Nt-iSZVtB"
      },
      "outputs": [],
      "source": [
        "X3=X2.to_numpy()"
      ]
    },
    {
      "cell_type": "code",
      "execution_count": 24,
      "metadata": {
        "id": "dw54iAt3ZVtC"
      },
      "outputs": [],
      "source": [
        "X4=X_train.drop('gender',axis=1)\n",
        "X4=X4.drop('SeniorCitizen',axis=1)\n",
        "X4=X4.drop('Partner',axis=1)\n",
        "X4=X4.drop('Dependents',axis=1)\n",
        "X4=X4.drop('PhoneService',axis=1)\n",
        "X4=X4.drop('MultipleLines',axis=1)\n",
        "X4=X4.drop('InternetService',axis=1)\n",
        "X4=X4.drop('OnlineSecurity',axis=1)\n",
        "X4=X4.drop('OnlineBackup',axis=1)\n",
        "X4=X4.drop('DeviceProtection',axis=1)\n",
        "X4=X4.drop('TechSupport',axis=1)\n",
        "X4=X4.drop('StreamingTV',axis=1)\n",
        "X4=X4.drop('StreamingMovies',axis=1)\n",
        "X4=X4.drop('Contract',axis=1)\n",
        "X4=X4.drop('PaperlessBilling',axis=1)\n",
        "X4=X4.drop('MonthlyCharges',axis=1)\n",
        "X4=X4.drop('TotalCharges',axis=1)"
      ]
    },
    {
      "cell_type": "code",
      "execution_count": 25,
      "metadata": {
        "id": "xiwcttbfZVtD"
      },
      "outputs": [],
      "source": [
        "X5=X4.to_numpy()"
      ]
    },
    {
      "cell_type": "code",
      "execution_count": 26,
      "metadata": {
        "colab": {
          "base_uri": "https://localhost:8080/"
        },
        "id": "IATSQBGWZVtD",
        "outputId": "3d88b918-a680-41e6-e56a-82a473da7ff2"
      },
      "outputs": [
        {
          "output_type": "execute_result",
          "data": {
            "text/plain": [
              "array([[ 0.88107786,  0.36642988],\n",
              "       [-1.28426262, -0.83469998],\n",
              "       [-0.79399685,  0.36642988],\n",
              "       ...,\n",
              "       [-0.83485233, -0.83469998],\n",
              "       [-0.83485233, -0.83469998],\n",
              "       [-0.2628756 ,  0.36642988]])"
            ]
          },
          "metadata": {},
          "execution_count": 26
        }
      ],
      "source": [
        "X5"
      ]
    },
    {
      "cell_type": "code",
      "execution_count": 27,
      "metadata": {
        "id": "IEfBPttyZVtF"
      },
      "outputs": [],
      "source": [
        "y2=y_train.to_numpy()"
      ]
    },
    {
      "cell_type": "code",
      "execution_count": 28,
      "metadata": {
        "id": "iYtNpnlAZVtG"
      },
      "outputs": [],
      "source": [
        "h = 0.01\n",
        "\n",
        "x_min, x_max = X3[:, 0].min() - 1, X3[:, 0].max() + 1\n",
        "y_min, y_max = X3[:, 1].min() - 1, X3[:, 1].max() + 1\n",
        "xx, yy = np.meshgrid(np.arange(x_min, x_max, h),np.arange(y_min, y_max, h))\n",
        "\n",
        "titles = ['Linear kernel','RBF kernel','Polynomial kernel','Sigmoid kernel']"
      ]
    },
    {
      "cell_type": "markdown",
      "metadata": {
        "id": "8-KeSQm5ZVtH"
      },
      "source": [
        "### modelado"
      ]
    },
    {
      "cell_type": "code",
      "execution_count": 29,
      "metadata": {
        "id": "WiRDH_elZVtI"
      },
      "outputs": [],
      "source": [
        "\n",
        "linear = svm.SVC(kernel='linear', C=1, decision_function_shape='ovr').fit(X5, y2)\n",
        "rbf = svm.SVC(kernel='rbf', gamma=1, C=1, decision_function_shape='ovr').fit(X5, y2)\n",
        "poly = svm.SVC(kernel='poly', degree=3, C=1, decision_function_shape='ovr').fit(X5, y2)\n",
        "sig = svm.SVC(kernel='sigmoid', C=1, decision_function_shape='ovr').fit(X5, y2)"
      ]
    },
    {
      "cell_type": "markdown",
      "metadata": {
        "id": "rKDBxRSMZVtI"
      },
      "source": [
        "## base mesh"
      ]
    },
    {
      "cell_type": "code",
      "execution_count": 30,
      "metadata": {
        "colab": {
          "base_uri": "https://localhost:8080/",
          "height": 278
        },
        "id": "CBFllApQZVtJ",
        "outputId": "0aebf813-4555-4ed2-c365-3c69c8ce6b89"
      },
      "outputs": [
        {
          "output_type": "display_data",
          "data": {
            "text/plain": [
              "<Figure size 432x288 with 4 Axes>"
            ],
            "image/png": "[encoded data removed]"
          },
          "metadata": {}
        }
      ],
      "source": [
        "\n",
        "for i, clf in enumerate((linear, rbf, poly, sig)):\n",
        "    #defines how many plots: 2 rows, 2columns=> leading to 4 plots\n",
        "    plt.subplot(2, 2, i + 1) #i+1 is the index\n",
        "    #space between plots\n",
        "    plt.subplots_adjust(wspace=0.4, hspace=0.4)\n",
        "    \n",
        "    Z = clf.predict(np.c_[xx.ravel(), yy.ravel()])\n",
        "# Put the result into a color plot\n",
        "    Z = Z.reshape(xx.shape)\n",
        "    plt.contourf(xx, yy, Z, cmap=plt.cm.PuBuGn, alpha=0.7)\n",
        "# Plot also the training points\n",
        "    plt.scatter(X3[:, 0], X3[:, 1], c=y, cmap=plt.cm.PuBuGn,     edgecolors='grey')\n",
        "    plt.xlabel('PaymentMethod')\n",
        "    plt.ylabel('tenure')\n",
        "    plt.xlim(xx.min(), xx.max())\n",
        "    plt.ylim(yy.min(), yy.max())\n",
        "    plt.xticks(())\n",
        "    plt.yticks(())\n",
        "    plt.title(titles[i])\n",
        "plt.show()\n"
      ]
    },
    {
      "cell_type": "code",
      "execution_count": 30,
      "metadata": {
        "id": "0wmV8zNiZVtK"
      },
      "outputs": [],
      "source": [
        ""
      ]
    }
  ],
  "metadata": {
    "kernelspec": {
      "display_name": "Python 3 (ipykernel)",
      "language": "python",
      "name": "python3"
    },
    "language_info": {
      "codemirror_mode": {
        "name": "ipython",
        "version": 3
      },
      "file_extension": ".py",
      "mimetype": "text/x-python",
      "name": "python",
      "nbconvert_exporter": "python",
      "pygments_lexer": "ipython3",
      "version": "3.9.7"
    },
    "varInspector": {
      "cols": {
        "lenName": 16,
        "lenType": 16,
        "lenVar": 40
      },
      "kernels_config": {
        "python": {
          "delete_cmd_postfix": "",
          "delete_cmd_prefix": "del ",
          "library": "var_list.py",
          "varRefreshCmd": "print(var_dic_list())"
        },
        "r": {
          "delete_cmd_postfix": ") ",
          "delete_cmd_prefix": "rm(",
          "library": "var_list.r",
          "varRefreshCmd": "cat(var_dic_list()) "
        }
      },
      "types_to_exclude": [
        "module",
        "function",
        "builtin_function_or_method",
        "instance",
        "_Feature"
      ],
      "window_display": false
    },
    "colab": {
      "name": "desafio opcional svm.ipynb",
      "provenance": [],
      "include_colab_link": true
    }
  },
  "nbformat": 4,
  "nbformat_minor": 0
}